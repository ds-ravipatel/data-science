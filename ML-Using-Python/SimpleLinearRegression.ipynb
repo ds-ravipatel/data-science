{
 "cells": [
  {
   "cell_type": "code",
   "execution_count": null,
   "metadata": {},
   "outputs": [],
   "source": [
    "import numpy as np\n",
    "import matplotlib.pyplot as plt"
   ]
  },
  {
   "cell_type": "code",
   "execution_count": 26,
   "metadata": {},
   "outputs": [],
   "source": [
    "def main():\n",
    "    x = np.array([1,2,3,4,5,6,7,8,9,10])\n",
    "    y = np.array([300,350,500,700,800,850,900,900,1000,1200])\n",
    "    b = np.array([-8,137.73])\n",
    "    plot_graph(x,y,b)\n",
    "    Y = np.asmatrix(y)\n",
    "    X = np.asmatrix(x)\n",
    "    X=X.T\n",
    "    X1= np.ones((10,1), dtype=np.int32)\n",
    "    X2= np.hstack((X1,X))\n",
    "    B = np.asmatrix(b)\n",
    "    B=B.T\n",
    "    m = X2.shape[0]\n",
    "    j = cost(X2,Y,B)\n",
    "    print(j)"
   ]
  },
  {
   "cell_type": "code",
   "execution_count": 22,
   "metadata": {},
   "outputs": [],
   "source": [
    "def plot_graph(x,y,b):\n",
    "    plt.scatter(x,y,color = \"b\",marker = \"+\", s=50)\n",
    "    pred_line = b[0]+b[1]*x\n",
    "    plt.plot(x,pred_line, color =\"r\")\n",
    "    plt.xlabel('Size of House')\n",
    "    plt.ylabel('Cost')"
   ]
  },
  {
   "cell_type": "code",
   "execution_count": 28,
   "metadata": {},
   "outputs": [],
   "source": [
    "def cost(X2,Y,B):\n",
    "    m = X2.shape[0]\n",
    "    J = sum(np.square(X2.dot(B)-Y))/(2*m)\n",
    "    return J"
   ]
  },
  {
   "cell_type": "code",
   "execution_count": 29,
   "metadata": {},
   "outputs": [],
   "source": [
    "def grad_descent(X2,Y,B,alpha,itr):\n",
    "    J_hist = np.zeros(itr,1)\n",
    "    m = X2.shape[0]\n",
    "    for i in range(0,itr-1):\n",
    "        t1=B[0,0] - alpha * (1/m)*sum(X2.dot(B)-Y)\n",
    "        t2=B[1,0] - alpha * (1/m)*sum(X2.dot(B)-Y).dot(X[:1])\n",
    "        B[0,0] = t1\n",
    "        B[1,0] = t2\n",
    "        J_hist[itr,1]=cost(X2,Y,B)\n",
    "    \n",
    "    "
   ]
  },
  {
   "cell_type": "code",
   "execution_count": 30,
   "metadata": {},
   "outputs": [
    {
     "name": "stdout",
     "output_type": "stream",
     "text": [
      "[[179281.273325 158055.523325 109378.273325  79475.273325  79523.773325\n",
      "   83298.023325  89572.273325  89572.273325 109620.773325 179717.773325]]\n"
     ]
    },
    {
     "data": {
      "image/png": "[encoded data removed]",
      "text/plain": [
       "<Figure size 432x288 with 1 Axes>"
      ]
     },
     "metadata": {},
     "output_type": "display_data"
    }
   ],
   "source": [
    "if __name__ == \"__main__\":\n",
    "    main()"
   ]
  },
  {
   "cell_type": "code",
   "execution_count": 18,
   "metadata": {},
   "outputs": [],
   "source": [
    "X = np.array([1,2,3,4,5,6,7,8,9,10]).reshape(10,1)\n",
    "Y = np.array([300,350,500,700,800,850,900,900,1000,1200]).reshape(10,1)"
   ]
  },
  {
   "cell_type": "code",
   "execution_count": 15,
   "metadata": {},
   "outputs": [
    {
     "name": "stdout",
     "output_type": "stream",
     "text": [
      "[[ 1]\n",
      " [ 2]\n",
      " [ 3]\n",
      " [ 4]\n",
      " [ 5]\n",
      " [ 6]\n",
      " [ 7]\n",
      " [ 8]\n",
      " [ 9]\n",
      " [10]]\n"
     ]
    }
   ],
   "source": [
    "print(X)"
   ]
  },
  {
   "cell_type": "code",
   "execution_count": 19,
   "metadata": {},
   "outputs": [
    {
     "name": "stdout",
     "output_type": "stream",
     "text": [
      "[[ 300]\n",
      " [ 350]\n",
      " [ 500]\n",
      " [ 700]\n",
      " [ 800]\n",
      " [ 850]\n",
      " [ 900]\n",
      " [ 900]\n",
      " [1000]\n",
      " [1200]]\n"
     ]
    }
   ],
   "source": [
    "print(Y)"
   ]
  },
  {
   "cell_type": "code",
   "execution_count": 22,
   "metadata": {},
   "outputs": [],
   "source": [
    "X1=np.ones((10,1), dtype=np.int32)"
   ]
  },
  {
   "cell_type": "code",
   "execution_count": 23,
   "metadata": {},
   "outputs": [
    {
     "name": "stdout",
     "output_type": "stream",
     "text": [
      "[[1]\n",
      " [1]\n",
      " [1]\n",
      " [1]\n",
      " [1]\n",
      " [1]\n",
      " [1]\n",
      " [1]\n",
      " [1]\n",
      " [1]]\n"
     ]
    }
   ],
   "source": [
    "print(X1)"
   ]
  },
  {
   "cell_type": "code",
   "execution_count": 27,
   "metadata": {},
   "outputs": [],
   "source": [
    "X2=np.hstack((X1,X))"
   ]
  },
  {
   "cell_type": "code",
   "execution_count": 28,
   "metadata": {},
   "outputs": [
    {
     "name": "stdout",
     "output_type": "stream",
     "text": [
      "[[ 1  1]\n",
      " [ 1  2]\n",
      " [ 1  3]\n",
      " [ 1  4]\n",
      " [ 1  5]\n",
      " [ 1  6]\n",
      " [ 1  7]\n",
      " [ 1  8]\n",
      " [ 1  9]\n",
      " [ 1 10]]\n"
     ]
    }
   ],
   "source": [
    "print(X2)"
   ]
  },
  {
   "cell_type": "code",
   "execution_count": 72,
   "metadata": {},
   "outputs": [
    {
     "name": "stdout",
     "output_type": "stream",
     "text": [
      "10\n",
      "[10386.073325]\n"
     ]
    }
   ],
   "source": [
    "Y = np.array([300,350,500,700,800,850,900,900,1000,1200]).reshape(10,1)\n",
    "m = Y.shape[0]\n",
    "print(m)\n",
    "X = np.array([1,2,3,4,5,6,7,8,9,10]).reshape(10,1)\n",
    "X1= np.ones((10,1), dtype=np.int32)\n",
    "X2= np.hstack((X1,X))\n",
    "B = np.array([-8,137.73]).reshape(2,1)\n",
    "J = sum(np.square(X2.dot(B)-Y))/20\n",
    "print(J)"
   ]
  },
  {
   "cell_type": "code",
   "execution_count": 58,
   "metadata": {},
   "outputs": [
    {
     "name": "stdout",
     "output_type": "stream",
     "text": [
      "[[ 1  2  3  4  5  6  7  8  9 10]]\n",
      "(1, 10)\n",
      "(10, 1)\n"
     ]
    }
   ],
   "source": [
    "r = np.array([1,2,3,4,5,6,7,8,9,10])\n",
    "R = np.asmatrix(r)\n",
    "print(R)\n",
    "print(R.shape)\n",
    "R=R.T\n",
    "print(R.shape)"
   ]
  },
  {
   "cell_type": "code",
   "execution_count": null,
   "metadata": {},
   "outputs": [],
   "source": []
  }
 ],
 "metadata": {
  "kernelspec": {
   "display_name": "Python 3",
   "language": "python",
   "name": "python3"
  },
  "language_info": {
   "codemirror_mode": {
    "name": "ipython",
    "version": 3
   },
   "file_extension": ".py",
   "mimetype": "text/x-python",
   "name": "python",
   "nbconvert_exporter": "python",
   "pygments_lexer": "ipython3",
   "version": "3.7.2"
  }
 },
 "nbformat": 4,
 "nbformat_minor": 2
}
